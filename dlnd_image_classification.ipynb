{
 "cells": [
  {
   "cell_type": "markdown",
   "metadata": {
    "collapsed": true
   },
   "source": [
    "# Image Classification\n",
    "In this project, you'll classify images from the [CIFAR-10 dataset](https://www.cs.toronto.edu/~kriz/cifar.html).  The dataset consists of airplanes, dogs, cats, and other objects. You'll __preprocess the images__, then __train a convolutional neural network on all the samples__. The __images need to be normalized__ and the __labels need to be one-hot encoded__.  You'll get to apply what you learned and build a convolutional, max pooling, dropout, and fully connected layers.  At the end, you'll get to see your neural network's predictions on the sample images.\n",
    "## Get the Data\n",
    "Run the following cell to download the [CIFAR-10 dataset for python](https://www.cs.toronto.edu/~kriz/cifar-10-python.tar.gz)."
   ]
  },
  {
   "cell_type": "code",
   "execution_count": 1,
   "metadata": {},
   "outputs": [
    {
     "name": "stderr",
     "output_type": "stream",
     "text": [
      "CIFAR-10 Dataset: 171MB [03:20, 852KB/s]                                \n"
     ]
    },
    {
     "name": "stdout",
     "output_type": "stream",
     "text": [
      "All files found!\n"
     ]
    }
   ],
   "source": [
    "\"\"\"\n",
    "DON'T MODIFY ANYTHING IN THIS CELL THAT IS BELOW THIS LINE\n",
    "\"\"\"\n",
    "from urllib.request import urlretrieve\n",
    "from os.path import isfile, isdir\n",
    "from tqdm import tqdm\n",
    "import problem_unittests as tests\n",
    "import tarfile\n",
    "\n",
    "cifar10_dataset_folder_path = 'cifar-10-batches-py'\n",
    "\n",
    "# Use Floyd's cifar-10 dataset if present\n",
    "floyd_cifar10_location = '/cifar/cifar-10-python.tar.gz'\n",
    "if isfile(floyd_cifar10_location):\n",
    "    tar_gz_path = floyd_cifar10_location\n",
    "else:\n",
    "    tar_gz_path = 'cifar-10-python.tar.gz'\n",
    "\n",
    "class DLProgress(tqdm):\n",
    "    last_block = 0\n",
    "\n",
    "    def hook(self, block_num=1, block_size=1, total_size=None):\n",
    "        self.total = total_size\n",
    "        self.update((block_num - self.last_block) * block_size)\n",
    "        self.last_block = block_num\n",
    "\n",
    "if not isfile(tar_gz_path):\n",
    "    with DLProgress(unit='B', unit_scale=True, miniters=1, desc='CIFAR-10 Dataset') as pbar:\n",
    "        urlretrieve(\n",
    "            'https://www.cs.toronto.edu/~kriz/cifar-10-python.tar.gz',\n",
    "            tar_gz_path,\n",
    "            pbar.hook)\n",
    "\n",
    "if not isdir(cifar10_dataset_folder_path):\n",
    "    with tarfile.open(tar_gz_path) as tar:\n",
    "        tar.extractall()\n",
    "        tar.close()\n",
    "\n",
    "\n",
    "tests.test_folder_path(cifar10_dataset_folder_path)"
   ]
  },
  {
   "cell_type": "markdown",
   "metadata": {},
   "source": [
    "## Explore the Data\n",
    "The dataset is broken into batches to prevent your machine from running out of memory.  The CIFAR-10 dataset consists of 5 batches, named `data_batch_1`, `data_batch_2`, etc.. Each batch contains the labels and images that are one of the following:\n",
    "* airplane\n",
    "* automobile\n",
    "* bird\n",
    "* cat\n",
    "* deer\n",
    "* dog\n",
    "* frog\n",
    "* horse\n",
    "* ship\n",
    "* truck\n",
    "\n",
    "Understanding a dataset is part of making predictions on the data.  Play around with the code cell below by changing the `batch_id` and `sample_id`. The `batch_id` is the id for a batch (1-5). The `sample_id` is the id for a image and label pair in the batch.\n",
    "\n",
    "Ask yourself \"What are all possible labels?\", \"What is the range of values for the image data?\", \"Are the labels in order or random?\".  Answers to questions like these will help you preprocess the data and end up with better predictions."
   ]
  },
  {
   "cell_type": "code",
   "execution_count": 2,
   "metadata": {},
   "outputs": [
    {
     "name": "stdout",
     "output_type": "stream",
     "text": [
      "\n",
      "Stats of batch 1:\n",
      "Samples: 10000\n",
      "Label Counts: {0: 1005, 1: 974, 2: 1032, 3: 1016, 4: 999, 5: 937, 6: 1030, 7: 1001, 8: 1025, 9: 981}\n",
      "First 20 Labels: [6, 9, 9, 4, 1, 1, 2, 7, 8, 3, 4, 7, 7, 2, 9, 9, 9, 3, 2, 6]\n",
      "\n",
      "Example of Image 5:\n",
      "Image - Min Value: 0 Max Value: 252\n",
      "Image - Shape: (32, 32, 3)\n",
      "Label - Label Id: 1 Name: automobile\n"
     ]
    },
    {
     "data": {
      "image/png": "[encoded data removed]",
      "text/plain": [
       "<matplotlib.figure.Figure at 0x119c3afd0>"
      ]
     },
     "metadata": {
      "image/png": {
       "height": 250,
       "width": 253
      }
     },
     "output_type": "display_data"
    }
   ],
   "source": [
    "%matplotlib inline\n",
    "%config InlineBackend.figure_format = 'retina'\n",
    "\n",
    "import helper\n",
    "import numpy as np\n",
    "\n",
    "# Explore the dataset\n",
    "batch_id = 1\n",
    "sample_id = 5\n",
    "helper.display_stats(cifar10_dataset_folder_path, batch_id, sample_id)"
   ]
  },
  {
   "cell_type": "markdown",
   "metadata": {},
   "source": [
    "## Implement Preprocess Functions\n",
    "### Normalize\n",
    "In the cell below, implement the `normalize` function to take in image data, `x`, and return it as a normalized Numpy array. The values should be in the range of 0 to 1, inclusive.  The return object should be the same shape as `x`."
   ]
  },
  {
   "cell_type": "code",
   "execution_count": 3,
   "metadata": {},
   "outputs": [
    {
     "name": "stdout",
     "output_type": "stream",
     "text": [
      "Tests Passed\n"
     ]
    }
   ],
   "source": [
    "def normalize(x):\n",
    "    \"\"\"\n",
    "    Normalize a list of sample image data in the range of 0 to 1\n",
    "    : x: List of image data.  The image shape is (32, 32, 3)\n",
    "    : return: Numpy array of normalize data\n",
    "    \"\"\"\n",
    "    \n",
    "    \"\"\"\n",
    "    TOP Reviewer Solution:\n",
    "    You could also have normalized the image by dividing each pixels by the maximum value of the image pixels. \n",
    "    0 is the minimum value of the image pixels and 255 is the maximum value of the image pixels.\n",
    "    def normalize(x):\n",
    "        return x/255\n",
    "    \"\"\"\n",
    "    \n",
    "    # TODO: Implement Function\n",
    "    # Complete initial zero ndarray\n",
    "    normalized = np.zeros_like(x.astype(float))\n",
    "    # The first X index is the amount of imgs, the others are HEIGHT, WIDTH, DEPTH\n",
    "    imgs_amount = x.shape[0]\n",
    "    # Compute max/min input values (before the loop to prevent performance issue)\n",
    "    max_val, min_val = x.max(), x.min()\n",
    "    # Normalize each image between 0 to 1\n",
    "    for img_i in range(imgs_amount):\n",
    "        normalized[img_i,...] = (x[img_i, ...] - float(min_val)) / float(max_val - min_val)\n",
    "\n",
    "    return normalized\n",
    "\n",
    "\n",
    "\"\"\"\n",
    "DON'T MODIFY ANYTHING IN THIS CELL THAT IS BELOW THIS LINE\n",
    "\"\"\"\n",
    "tests.test_normalize(normalize)"
   ]
  },
  {
   "cell_type": "markdown",
   "metadata": {},
   "source": [
    "### One-hot encode\n",
    "Just like the previous code cell, you'll be implementing a function for preprocessing.  This time, you'll implement the `one_hot_encode` function. The input, `x`, are a list of labels.  Implement the function to return the list of labels as One-Hot encoded Numpy array.  The possible values for labels are 0 to 9. The one-hot encoding function should return the same encoding for each value between each call to `one_hot_encode`.  Make sure to save the map of encodings outside the function.\n",
    "\n",
    "Hint: Don't reinvent the wheel."
   ]
  },
  {
   "cell_type": "code",
   "execution_count": 4,
   "metadata": {},
   "outputs": [
    {
     "name": "stdout",
     "output_type": "stream",
     "text": [
      "Tests Passed\n"
     ]
    }
   ],
   "source": [
    "from sklearn.preprocessing import OneHotEncoder\n",
    "\n",
    "def one_hot_encode(x):\n",
    "    \"\"\"\n",
    "    One hot encode a list of sample labels. Return a one-hot encoded vector for each label.\n",
    "    : x: List of sample Labels\n",
    "    : return: Numpy array of one-hot encoded labels\n",
    "    \"\"\"\n",
    "    \n",
    "    \"\"\"\n",
    "    REVIWER COMMENT\n",
    "    Alternatively you could used numpy's eye operation as follows;\n",
    "    Numpy library is based on C language and so it is quite efficient implementation.\n",
    "    def one_hot_encode(x):\n",
    "        return np.eye(10)[x]\n",
    "    \"\"\"\n",
    "    \n",
    "    # TODO: Implement Function\n",
    "    # Possible values: 0 to 9, so 10 possibilities\n",
    "    n_values = 10\n",
    "    encoder = OneHotEncoder(n_values)\n",
    "    x_resized_to_2d = np.array(x).reshape(-1,1)\n",
    "    one_hot_encoded_labels = encoder.fit_transform(x_resized_to_2d)\n",
    "    return one_hot_encoded_labels.toarray()\n",
    "\n",
    "\"\"\"\n",
    "DON'T MODIFY ANYTHING IN THIS CELL THAT IS BELOW THIS LINE\n",
    "\"\"\"\n",
    "tests.test_one_hot_encode(one_hot_encode)"
   ]
  },
  {
   "cell_type": "markdown",
   "metadata": {},
   "source": [
    "### Randomize Data\n",
    "As you saw from exploring the data above, the order of the samples are randomized.  It doesn't hurt to randomize it again, but you don't need to for this dataset."
   ]
  },
  {
   "cell_type": "markdown",
   "metadata": {},
   "source": [
    "## Preprocess all the data and save it\n",
    "Running the code cell below will preprocess all the CIFAR-10 data and save it to file. The code below also uses 10% of the training data for validation."
   ]
  },
  {
   "cell_type": "code",
   "execution_count": 5,
   "metadata": {
    "collapsed": true
   },
   "outputs": [],
   "source": [
    "\"\"\"\n",
    "DON'T MODIFY ANYTHING IN THIS CELL\n",
    "\"\"\"\n",
    "# Preprocess Training, Validation, and Testing Data\n",
    "helper.preprocess_and_save_data(cifar10_dataset_folder_path, normalize, one_hot_encode)"
   ]
  },
  {
   "cell_type": "markdown",
   "metadata": {},
   "source": [
    "# Check Point\n",
    "This is your first checkpoint.  If you ever decide to come back to this notebook or have to restart the notebook, you can start from here.  The preprocessed data has been saved to disk."
   ]
  },
  {
   "cell_type": "code",
   "execution_count": 6,
   "metadata": {
    "collapsed": true
   },
   "outputs": [],
   "source": [
    "\"\"\"\n",
    "DON'T MODIFY ANYTHING IN THIS CELL\n",
    "\"\"\"\n",
    "import pickle\n",
    "import problem_unittests as tests\n",
    "import helper\n",
    "\n",
    "# Load the Preprocessed Validation data\n",
    "valid_features, valid_labels = pickle.load(open('preprocess_validation.p', mode='rb'))"
   ]
  },
  {
   "cell_type": "markdown",
   "metadata": {},
   "source": [
    "## Build the network\n",
    "For the neural network, you'll build each layer into a function.  Most of the code you've seen has been outside of functions. To test your code more thoroughly, we require that you put each layer in a function.  This allows us to give you better feedback and test for simple mistakes using our unittests before you submit your project.\n",
    "\n",
    ">**Note:** If you're finding it hard to dedicate enough time for this course each week, we've provided a small shortcut to this part of the project. In the next couple of problems, you'll have the option to use classes from the [TensorFlow Layers](https://www.tensorflow.org/api_docs/python/tf/layers) or [TensorFlow Layers (contrib)](https://www.tensorflow.org/api_guides/python/contrib.layers) packages to build each layer, except the layers you build in the \"Convolutional and Max Pooling Layer\" section.  TF Layers is similar to Keras's and TFLearn's abstraction to layers, so it's easy to pickup.\n",
    "\n",
    ">However, if you would like to get the most out of this course, try to solve all the problems _without_ using anything from the TF Layers packages. You **can** still use classes from other packages that happen to have the same name as ones you find in TF Layers! For example, instead of using the TF Layers version of the `conv2d` class, [tf.layers.conv2d](https://www.tensorflow.org/api_docs/python/tf/layers/conv2d), you would want to use the TF Neural Network version of `conv2d`, [tf.nn.conv2d](https://www.tensorflow.org/api_docs/python/tf/nn/conv2d). \n",
    "\n",
    "Let's begin!\n",
    "\n",
    "### Input\n",
    "The neural network needs to read the image data, one-hot encoded labels, and dropout keep probability. Implement the following functions\n",
    "* Implement `neural_net_image_input`\n",
    " * Return a [TF Placeholder](https://www.tensorflow.org/api_docs/python/tf/placeholder)\n",
    " * Set the shape using `image_shape` with batch size set to `None`.\n",
    " * Name the TensorFlow placeholder \"x\" using the TensorFlow `name` parameter in the [TF Placeholder](https://www.tensorflow.org/api_docs/python/tf/placeholder).\n",
    "* Implement `neural_net_label_input`\n",
    " * Return a [TF Placeholder](https://www.tensorflow.org/api_docs/python/tf/placeholder)\n",
    " * Set the shape using `n_classes` with batch size set to `None`.\n",
    " * Name the TensorFlow placeholder \"y\" using the TensorFlow `name` parameter in the [TF Placeholder](https://www.tensorflow.org/api_docs/python/tf/placeholder).\n",
    "* Implement `neural_net_keep_prob_input`\n",
    " * Return a [TF Placeholder](https://www.tensorflow.org/api_docs/python/tf/placeholder) for dropout keep probability.\n",
    " * Name the TensorFlow placeholder \"keep_prob\" using the TensorFlow `name` parameter in the [TF Placeholder](https://www.tensorflow.org/api_docs/python/tf/placeholder).\n",
    "\n",
    "These names will be used at the end of the project to load your saved model.\n",
    "\n",
    "Note: `None` for shapes in TensorFlow allow for a dynamic size."
   ]
  },
  {
   "cell_type": "code",
   "execution_count": 7,
   "metadata": {},
   "outputs": [
    {
     "name": "stdout",
     "output_type": "stream",
     "text": [
      "Image Input Tests Passed.\n",
      "Label Input Tests Passed.\n",
      "Keep Prob Tests Passed.\n"
     ]
    }
   ],
   "source": [
    "import tensorflow as tf\n",
    "\n",
    "def neural_net_image_input(image_shape):\n",
    "    \"\"\"\n",
    "    Return a Tensor for a batch of image input\n",
    "    : image_shape: Shape of the images\n",
    "    : return: Tensor for image input.\n",
    "    \"\"\"\n",
    "    \n",
    "    \"\"\"\n",
    "    REVIWER COMMENT\n",
    "    Input/image_shape(THIS) data placeholder should be with datatype of float32 because image pixels have been normalized \n",
    "    and are in decimals. However class labels should be in int32.\n",
    "    \"\"\"\n",
    "    \n",
    "    # TODO: Implement Function\n",
    "    shape = ((None,) + image_shape) ## None for a dynamic size + image_shape size\n",
    "    name = 'x' ## prevent random name on save/load checkpoint, and in the formula the X is the input matrix\n",
    "    return tf.placeholder(tf.float32, shape, name)\n",
    "\n",
    "\n",
    "def neural_net_label_input(n_classes):\n",
    "    \"\"\"\n",
    "    Return a Tensor for a batch of label input\n",
    "    : n_classes: Number of classes\n",
    "    : return: Tensor for label input.\n",
    "    \"\"\"\n",
    "    \n",
    "    \"\"\"\n",
    "    REVIWER COMMENT\n",
    "    Input data placeholder should be with datatype of float32 because image pixels have been normalized \n",
    "    and are in decimals. However class/n_classes(THIS) labels should be in int32.\n",
    "    \"\"\"\n",
    "    \n",
    "    # TODO: Implement Function\n",
    "    shape = (None, n_classes) ## None for a dynamic size + n_classes amount\n",
    "    name = 'y' ## as in the formula the Y is the \"prediction\"/what we expect, so it is the label\n",
    "    return tf.placeholder(tf.float32, shape, name)\n",
    "\n",
    "\n",
    "def neural_net_keep_prob_input():\n",
    "    \"\"\"\n",
    "    Return a Tensor for keep probability\n",
    "    : return: Tensor for keep probability.\n",
    "    \"\"\"\n",
    "    # TODO: Implement Function\n",
    "    shape=(None) ## no additional element with shape/size\n",
    "    # As mentioned at Chap3.Lesson3: the probability of keeping (i.e. not dropping) any given unit, preventing overfitting\n",
    "    name='keep_prob'\n",
    "    return tf.placeholder(tf.float32, shape, name)\n",
    "\n",
    "\n",
    "\"\"\"\n",
    "DON'T MODIFY ANYTHING IN THIS CELL THAT IS BELOW THIS LINE\n",
    "\"\"\"\n",
    "tf.reset_default_graph()\n",
    "tests.test_nn_image_inputs(neural_net_image_input)\n",
    "tests.test_nn_label_inputs(neural_net_label_input)\n",
    "tests.test_nn_keep_prob_inputs(neural_net_keep_prob_input)"
   ]
  },
  {
   "cell_type": "markdown",
   "metadata": {},
   "source": [
    "### Convolution and Max Pooling Layer\n",
    "Convolution layers have a lot of success with images. For this code cell, you should implement the function `conv2d_maxpool` to apply convolution then max pooling:\n",
    "* Create the weight and bias using `conv_ksize`, `conv_num_outputs` and the shape of `x_tensor`.\n",
    "* Apply a convolution to `x_tensor` using weight and `conv_strides`.\n",
    " * We recommend you use same padding, but you're welcome to use any padding.\n",
    "* Add bias\n",
    "* Add a nonlinear activation to the convolution.\n",
    "* Apply Max Pooling using `pool_ksize` and `pool_strides`.\n",
    " * We recommend you use same padding, but you're welcome to use any padding.\n",
    "\n",
    "**Note:** You **can't** use [TensorFlow Layers](https://www.tensorflow.org/api_docs/python/tf/layers) or [TensorFlow Layers (contrib)](https://www.tensorflow.org/api_guides/python/contrib.layers) for **this** layer, but you can still use TensorFlow's [Neural Network](https://www.tensorflow.org/api_docs/python/tf/nn) package. You may still use the shortcut option for all the **other** layers."
   ]
  },
  {
   "cell_type": "code",
   "execution_count": 8,
   "metadata": {},
   "outputs": [
    {
     "name": "stdout",
     "output_type": "stream",
     "text": [
      "Tests Passed\n"
     ]
    }
   ],
   "source": [
    "def extract_dimensions_from(shape, initial=True):\n",
    "    \"\"\"\n",
    "    Extract Dimensions from the received shape, keep the code DRY\n",
    "    :param shape: 2-D Tuple\n",
    "    :param initial: Bool if False it means the batch & depth are on the shape, if True init both with 1\n",
    "    : return: A matrix as tf math \"settings\" like ksize;pooling;strides...\n",
    "    \"\"\"    \n",
    "    if initial:\n",
    "        batch_size = 1\n",
    "        depth = 1\n",
    "    else:\n",
    "        batch_size = shape[0]\n",
    "        depth = shape[3]\n",
    "\n",
    "    height = shape[0]\n",
    "    width = shape[1]\n",
    "    return [batch_size, height, width, depth]\n",
    "    \n",
    "\n",
    "def conv2d_maxpool(x_tensor, conv_num_outputs, conv_ksize, conv_strides, pool_ksize, pool_strides):\n",
    "    \"\"\"\n",
    "    Apply convolution then max pooling to x_tensor\n",
    "    :param x_tensor: TensorFlow Tensor\n",
    "    :param conv_num_outputs: Number of outputs for the convolutional layer\n",
    "    :param conv_ksize: kernal size 2-D Tuple for the convolutional layer\n",
    "    :param conv_strides: Stride 2-D Tuple for convolution\n",
    "    :param pool_ksize: kernal size 2-D Tuple for pool\n",
    "    :param pool_strides: Stride 2-D Tuple for pool\n",
    "    : return: A tensor that represents convolution and max pooling of x_tensor\n",
    "    \"\"\"\n",
    "    \n",
    "    \"\"\"\n",
    "    REVIWER COMMENT (TOP!!):\n",
    "    It is a correct implement. However the following order will be more efficient if you're using ReLU activation function;\n",
    "    1)convolution\n",
    "    2)max pooling\n",
    "    3)activation-ReLU\n",
    "    Since relu(max_pool(x)) == max_pool(relu(x)) we can save most of the relu-operations by max-pooling first.\n",
    "    \"\"\"\n",
    "    \n",
    "    # TODO: Implement Function\n",
    "    # Defining how the Weight Shape must look like based on the input & output shapes\n",
    "    # conv_ksize is a shape (2,2), the linear math works only to lists, so typecasted it\n",
    "    conv_ksize_as_list = list(conv_ksize)\n",
    "    x_depth = x_tensor.shape.as_list()[3]\n",
    "    weights_shape = conv_ksize_as_list + [x_depth, conv_num_outputs]\n",
    "    \n",
    "    # Creating the trainable variables (weights & bias)\n",
    "    weights = tf.Variable(tf.truncated_normal(weights_shape, stddev=5e-2))\n",
    "    bias = tf.Variable(tf.zeros(conv_num_outputs))\n",
    "    \n",
    "    # Applying the Convolution\n",
    "    strides = extract_dimensions_from(conv_strides)\n",
    "    output = tf.nn.conv2d(x_tensor, weights, strides, padding='SAME')\n",
    "    # tf.nn.conv2d does not include the bias computation so we have to add it\n",
    "    output = tf.nn.bias_add(output, bias)\n",
    "    # applyin ReLU which turning off any negative\n",
    "    output = tf.nn.relu(output)\n",
    "    \n",
    "    # Pooling layer.\n",
    "    pool_ksize = extract_dimensions_from(pool_ksize)\n",
    "    pool_strides = extract_dimensions_from(pool_strides)\n",
    "    output = tf.nn.max_pool(output, pool_ksize, pool_strides, padding='SAME')\n",
    "    return output \n",
    "\n",
    "\n",
    "\"\"\"\n",
    "DON'T MODIFY ANYTHING IN THIS CELL THAT IS BELOW THIS LINE\n",
    "\"\"\"\n",
    "tests.test_con_pool(conv2d_maxpool)"
   ]
  },
  {
   "cell_type": "markdown",
   "metadata": {},
   "source": [
    "### Flatten Layer\n",
    "Implement the `flatten` function to change the dimension of `x_tensor` from a 4-D tensor to a 2-D tensor.  The output should be the shape (*Batch Size*, *Flattened Image Size*). Shortcut option: you can use classes from the [TensorFlow Layers](https://www.tensorflow.org/api_docs/python/tf/layers) or [TensorFlow Layers (contrib)](https://www.tensorflow.org/api_guides/python/contrib.layers) packages for this layer. For more of a challenge, only use other TensorFlow packages."
   ]
  },
  {
   "cell_type": "code",
   "execution_count": 9,
   "metadata": {},
   "outputs": [
    {
     "name": "stdout",
     "output_type": "stream",
     "text": [
      "Tests Passed\n"
     ]
    }
   ],
   "source": [
    "def flatten(x_tensor, reshaped=True):\n",
    "    \"\"\"\n",
    "    Flatten x_tensor to (Batch Size, Flattened Image Size)\n",
    "    : x_tensor: A tensor of size (Batch Size, ...), where ... are the image dimensions.\n",
    "    : return: A tensor of size (Batch Size, Flattened Image Size).\n",
    "    \"\"\"\n",
    "    \n",
    "    \"\"\"\n",
    "    REVIWER COMMENT\n",
    "    The purpose of flatten function is to connect the fully connected layer with the convolutional/maxpool layer \n",
    "    by changing the dimensions of x_tensor from a 4-D tensor to a 2-D tensor.\n",
    "    \"\"\"\n",
    "    \n",
    "    # TODO: Implement Function\n",
    "    tensor_shape = x_tensor.shape.as_list()\n",
    "\n",
    "    # Get the length using scalar product of it array\n",
    "    tensor_img_shape = np.array(tensor_shape[1:])\n",
    "    flattened_shape = tensor_img_shape.prod()\n",
    "    \n",
    "    if not reshaped:\n",
    "        return flattened_shape\n",
    "    \n",
    "    # Batch size is casted by tf.shape.\n",
    "    flatten_reshaped = tf.reshape(x_tensor, [tf.shape(x_tensor)[0], flattened_shape])\n",
    "    return flatten_reshaped\n",
    "\n",
    "\n",
    "\"\"\"\n",
    "DON'T MODIFY ANYTHING IN THIS CELL THAT IS BELOW THIS LINE\n",
    "\"\"\"\n",
    "tests.test_flatten(flatten)"
   ]
  },
  {
   "cell_type": "markdown",
   "metadata": {},
   "source": [
    "### Fully-Connected Layer\n",
    "Implement the `fully_conn` function to apply a fully connected layer to `x_tensor` with the shape (*Batch Size*, *num_outputs*). Shortcut option: you can use classes from the [TensorFlow Layers](https://www.tensorflow.org/api_docs/python/tf/layers) or [TensorFlow Layers (contrib)](https://www.tensorflow.org/api_guides/python/contrib.layers) packages for this layer. For more of a challenge, only use other TensorFlow packages."
   ]
  },
  {
   "cell_type": "code",
   "execution_count": 10,
   "metadata": {},
   "outputs": [
    {
     "name": "stdout",
     "output_type": "stream",
     "text": [
      "Tests Passed\n"
     ]
    }
   ],
   "source": [
    "def fully_conn(x_tensor, num_outputs):\n",
    "    \"\"\"\n",
    "    Apply a fully connected layer to x_tensor using weight and bias\n",
    "    : x_tensor: A 2-D tensor where the first dimension is batch size.\n",
    "    : num_outputs: The number of output that the new tensor should be.\n",
    "    : return: A 2-D tensor where the second dimension is num_outputs.\n",
    "    \"\"\"\n",
    "    \n",
    "    \"\"\"\n",
    "    REVIWER COMMENT\n",
    "    That's correct! It is better to apply dropout only on fully connected layer instead also on convolutional layer. \n",
    "    Because convolutional layers are already regularised.\n",
    "    https://www.reddit.com/r/MachineLearning/comments/42nnpe/why_do_i_never_see_dropout_applied_in/\n",
    "    \"\"\"\n",
    "    \n",
    "    # TODO: Implement Function\n",
    "    return tf.layers.dense(inputs=x_tensor, units=40, activation=tf.nn.relu)\n",
    "\n",
    "\n",
    "\"\"\"\n",
    "DON'T MODIFY ANYTHING IN THIS CELL THAT IS BELOW THIS LINE\n",
    "\"\"\"\n",
    "tests.test_fully_conn(fully_conn)"
   ]
  },
  {
   "cell_type": "markdown",
   "metadata": {},
   "source": [
    "### Output Layer\n",
    "Implement the `output` function to apply a fully connected layer to `x_tensor` with the shape (*Batch Size*, *num_outputs*). Shortcut option: you can use classes from the [TensorFlow Layers](https://www.tensorflow.org/api_docs/python/tf/layers) or [TensorFlow Layers (contrib)](https://www.tensorflow.org/api_guides/python/contrib.layers) packages for this layer. For more of a challenge, only use other TensorFlow packages.\n",
    "\n",
    "**Note:** Activation, softmax, or cross entropy should **not** be applied to this."
   ]
  },
  {
   "cell_type": "code",
   "execution_count": 11,
   "metadata": {},
   "outputs": [
    {
     "name": "stdout",
     "output_type": "stream",
     "text": [
      "Tests Passed\n"
     ]
    }
   ],
   "source": [
    "def output(x_tensor, num_outputs):\n",
    "    \"\"\"\n",
    "    Apply a output layer to x_tensor using weight and bias\n",
    "    : x_tensor: A 2-D tensor where the first dimension is batch size.\n",
    "    : num_outputs: The number of output that the new tensor should be.\n",
    "    : return: A 2-D tensor where the second dimension is num_outputs.\n",
    "    \"\"\"\n",
    "    \n",
    "    \"\"\"\n",
    "    REVIWER COMMENT\n",
    "    That's correct! \n",
    "    There's no need for any non-linear activation function here. \n",
    "    Logits will be created from the output layer.\n",
    "    These logits will be used by the softmax which will generate the predicted values.\n",
    "    \"\"\"\n",
    "    \n",
    "    # TODO: Implement Function\n",
    "    flattened_shape = flatten(x_tensor, reshaped=False)\n",
    "    truncated_normal_distribution_flat_and_outs = tf.truncated_normal([flattened_shape, num_outputs], stddev=0.04)\n",
    "\n",
    "    # Define trainable variables.\n",
    "    weights = tf.Variable(truncated_normal_distribution_flat_and_outs)\n",
    "    bias = tf.Variable(tf.zeros([num_outputs]))\n",
    "    \n",
    "    # Output layer.    \n",
    "    return tf.add(tf.matmul(x_tensor, weights), bias)\n",
    "\n",
    "\n",
    "\"\"\"\n",
    "DON'T MODIFY ANYTHING IN THIS CELL THAT IS BELOW THIS LINE\n",
    "\"\"\"\n",
    "tests.test_output(output)"
   ]
  },
  {
   "cell_type": "markdown",
   "metadata": {},
   "source": [
    "### Create Convolutional Model\n",
    "Implement the function `conv_net` to create a convolutional neural network model. The function takes in a batch of images, `x`, and outputs logits.  Use the layers you created above to create this model:\n",
    "\n",
    "* Apply 1, 2, or 3 Convolution and Max Pool layers\n",
    "* Apply a Flatten Layer\n",
    "* Apply 1, 2, or 3 Fully Connected Layers\n",
    "* Apply an Output Layer\n",
    "* Return the output\n",
    "* Apply [TensorFlow's Dropout](https://www.tensorflow.org/api_docs/python/tf/nn/dropout) to one or more layers in the model using `keep_prob`. "
   ]
  },
  {
   "cell_type": "code",
   "execution_count": 12,
   "metadata": {},
   "outputs": [
    {
     "name": "stdout",
     "output_type": "stream",
     "text": [
      "Neural Network Built!\n"
     ]
    }
   ],
   "source": [
    "def conv_net(x, keep_prob):\n",
    "    \"\"\"\n",
    "    Create a convolutional neural network model\n",
    "    : x: Placeholder tensor that holds image data.\n",
    "    : keep_prob: Placeholder tensor that hold dropout keep probability.\n",
    "    : return: Tensor that represents logits\n",
    "    \"\"\"\n",
    "    # 'settings' variables\n",
    "    conv_num_outputs=64\n",
    "    conv_ksize=[5,5]\n",
    "    conv_strides=[1,1]\n",
    "    pool_ksize=[3,3]\n",
    "    pool_strides=[2,2]\n",
    "    \n",
    "    # TODO: Apply 1, 2, or 3 Convolution and Max Pool layers\n",
    "    #    Play around with different number of outputs, kernel size and stride\n",
    "    # Function Definition from Above:\n",
    "    #    conv2d_maxpool(x_tensor, conv_num_outputs, conv_ksize, conv_strides, pool_ksize, pool_strides)\n",
    "    conv = conv2d_maxpool(x,conv_num_outputs,conv_ksize,conv_strides,pool_ksize,pool_strides)\n",
    "    # second Convoultion and Max Pool Layers applied.\n",
    "    conv = conv2d_maxpool(conv,conv_num_outputs,conv_ksize,conv_strides,pool_ksize,pool_strides)\n",
    "    # third Convoultion and Max Pool Layers applied.\n",
    "    conv = conv2d_maxpool(conv,conv_num_outputs,conv_ksize,conv_strides,pool_ksize,pool_strides)\n",
    "\n",
    "    # TODO: Apply a Flatten Layer\n",
    "    # Function Definition from Above:\n",
    "    #   flatten(x_tensor)\n",
    "    flattened_conv = flatten(conv)\n",
    "    \n",
    "\n",
    "    # TODO: Apply 1, 2, or 3 Fully Connected Layers\n",
    "    #    Play around with different number of outputs\n",
    "    # Function Definition from Above:\n",
    "    #   fully_conn(x_tensor, num_outputs)\n",
    "    fc = fully_conn(flattened_conv, 384)\n",
    "    # second fully connected layer\n",
    "    fc = fully_conn(fc, 192)\n",
    "    # third fully connected layer    \n",
    "    fc = fully_conn(fc, 96)\n",
    "    \n",
    "    # TODO: Apply an Output Layer\n",
    "    #    Set this to the number of classes\n",
    "    # Function Definition from Above:\n",
    "    #   output(x_tensor, num_outputs)\n",
    "    fc = tf.nn.dropout(fc, keep_prob)\n",
    "\n",
    "    # TODO: return output\n",
    "    return output(fc, num_outputs=10) \n",
    "\n",
    "\n",
    "\"\"\"\n",
    "DON'T MODIFY ANYTHING IN THIS CELL THAT IS BELOW THIS LINE\n",
    "\"\"\"\n",
    "\n",
    "##############################\n",
    "## Build the Neural Network ##\n",
    "##############################\n",
    "\n",
    "# Remove previous weights, bias, inputs, etc..\n",
    "tf.reset_default_graph()\n",
    "\n",
    "# Inputs\n",
    "x = neural_net_image_input((32, 32, 3))\n",
    "y = neural_net_label_input(10)\n",
    "keep_prob = neural_net_keep_prob_input()\n",
    "\n",
    "# Model\n",
    "logits = conv_net(x, keep_prob)\n",
    "\n",
    "# Name logits Tensor, so that is can be loaded from disk after training\n",
    "logits = tf.identity(logits, name='logits')\n",
    "\n",
    "# Loss and Optimizer\n",
    "cost = tf.reduce_mean(tf.nn.softmax_cross_entropy_with_logits(logits=logits, labels=y))\n",
    "optimizer = tf.train.AdamOptimizer().minimize(cost)\n",
    "\n",
    "# Accuracy\n",
    "correct_pred = tf.equal(tf.argmax(logits, 1), tf.argmax(y, 1))\n",
    "accuracy = tf.reduce_mean(tf.cast(correct_pred, tf.float32), name='accuracy')\n",
    "\n",
    "tests.test_conv_net(conv_net)"
   ]
  },
  {
   "cell_type": "markdown",
   "metadata": {},
   "source": [
    "## Train the Neural Network\n",
    "### Single Optimization\n",
    "Implement the function `train_neural_network` to do a single optimization.  The optimization should use `optimizer` to optimize in `session` with a `feed_dict` of the following:\n",
    "* `x` for image input\n",
    "* `y` for labels\n",
    "* `keep_prob` for keep probability for dropout\n",
    "\n",
    "This function will be called for each batch, so `tf.global_variables_initializer()` has already been called.\n",
    "\n",
    "Note: Nothing needs to be returned. This function is only optimizing the neural network."
   ]
  },
  {
   "cell_type": "code",
   "execution_count": 13,
   "metadata": {},
   "outputs": [
    {
     "name": "stdout",
     "output_type": "stream",
     "text": [
      "Tests Passed\n"
     ]
    }
   ],
   "source": [
    "def train_neural_network(session, optimizer, keep_probability, feature_batch, label_batch):\n",
    "    \"\"\"\n",
    "    Optimize the session on a batch of images and labels\n",
    "    : session: Current TensorFlow session\n",
    "    : optimizer: TensorFlow optimizer function\n",
    "    : keep_probability: keep probability\n",
    "    : feature_batch: Batch of Numpy image data\n",
    "    : label_batch: Batch of Numpy label data\n",
    "    \"\"\"\n",
    "    # TODO: Implement Function\n",
    "    session.run(optimizer, feed_dict={x: feature_batch, y: label_batch, keep_prob: keep_probability})\n",
    "\n",
    "\n",
    "\"\"\"\n",
    "DON'T MODIFY ANYTHING IN THIS CELL THAT IS BELOW THIS LINE\n",
    "\"\"\"\n",
    "tests.test_train_nn(train_neural_network)"
   ]
  },
  {
   "cell_type": "markdown",
   "metadata": {},
   "source": [
    "### Show Stats\n",
    "Implement the function `print_stats` to print loss and validation accuracy.  Use the global variables `valid_features` and `valid_labels` to calculate validation accuracy.  Use a keep probability of `1.0` to calculate the loss and validation accuracy."
   ]
  },
  {
   "cell_type": "code",
   "execution_count": 14,
   "metadata": {
    "collapsed": true
   },
   "outputs": [],
   "source": [
    "def print_stats(session, feature_batch, label_batch, cost, accuracy):\n",
    "    \"\"\"\n",
    "    Print information about loss and validation accuracy\n",
    "    : session: Current TensorFlow session\n",
    "    : feature_batch: Batch of Numpy image data\n",
    "    : label_batch: Batch of Numpy label data\n",
    "    : cost: TensorFlow cost function\n",
    "    : accuracy: TensorFlow accuracy function\n",
    "    \"\"\"\n",
    "    # TODO: Implement Function\n",
    "    loss = sess.run(cost, feed_dict={x: feature_batch,y: label_batch,keep_prob: 1.})\n",
    "    valid_acc = sess.run(accuracy, feed_dict={x: valid_features,y: valid_labels,keep_prob: 1.})\n",
    "    print('Loss: {:>10.4f} Validation Accuracy: {:.6f}'.format(loss, valid_acc))"
   ]
  },
  {
   "cell_type": "markdown",
   "metadata": {},
   "source": [
    "### Hyperparameters\n",
    "Tune the following parameters:\n",
    "* Set `epochs` to the number of iterations until the network stops learning or start overfitting\n",
    "* Set `batch_size` to the highest number that your machine has memory for.  Most people set them to common sizes of memory:\n",
    " * 64\n",
    " * 128\n",
    " * 256\n",
    " * ...\n",
    "* Set `keep_probability` to the probability of keeping a node using dropout"
   ]
  },
  {
   "cell_type": "code",
   "execution_count": 15,
   "metadata": {
    "collapsed": true
   },
   "outputs": [],
   "source": [
    "# TODO: Tune Parameters\n",
    "\n",
    "\"\"\"\n",
    "REVIWER COMMENT\n",
    "The batch size can vary, depending on the performance of the computer. \n",
    "Very low batch-size can result in the optimization of the loss value to be noisy.\n",
    "Check out this lesson video on mini-batch training and gradient descent\n",
    "https://www.youtube.com/watch?v=hMLUgM6kTp8&index=20&list=PLAwxTw4SYaPn_OWPFT9ulXLuQrImzHfOV\n",
    "\"\"\"\n",
    "\n",
    "epochs = 43\n",
    "batch_size = 128\n",
    "keep_probability = 0.5"
   ]
  },
  {
   "cell_type": "markdown",
   "metadata": {},
   "source": [
    "### Train on a Single CIFAR-10 Batch\n",
    "Instead of training the neural network on all the CIFAR-10 batches of data, let's use a single batch. This should save time while you iterate on the model to get a better accuracy.  Once the final validation accuracy is 50% or greater, run the model on all the data in the next section."
   ]
  },
  {
   "cell_type": "code",
   "execution_count": 16,
   "metadata": {},
   "outputs": [
    {
     "name": "stdout",
     "output_type": "stream",
     "text": [
      "Checking the Training on a Single Batch...\n",
      "Epoch  1, CIFAR-10 Batch 1:  Loss:     2.0988 Validation Accuracy: 0.272800\n",
      "Epoch  2, CIFAR-10 Batch 1:  Loss:     1.9658 Validation Accuracy: 0.327000\n",
      "Epoch  3, CIFAR-10 Batch 1:  Loss:     1.8335 Validation Accuracy: 0.372800\n",
      "Epoch  4, CIFAR-10 Batch 1:  Loss:     1.6889 Validation Accuracy: 0.395000\n",
      "Epoch  5, CIFAR-10 Batch 1:  Loss:     1.5694 Validation Accuracy: 0.422200\n",
      "Epoch  6, CIFAR-10 Batch 1:  Loss:     1.4121 Validation Accuracy: 0.437400\n",
      "Epoch  7, CIFAR-10 Batch 1:  Loss:     1.2860 Validation Accuracy: 0.463000\n",
      "Epoch  8, CIFAR-10 Batch 1:  Loss:     1.4074 Validation Accuracy: 0.469800\n",
      "Epoch  9, CIFAR-10 Batch 1:  Loss:     1.1542 Validation Accuracy: 0.501800\n",
      "Epoch 10, CIFAR-10 Batch 1:  Loss:     1.1087 Validation Accuracy: 0.490400\n",
      "Epoch 11, CIFAR-10 Batch 1:  Loss:     1.0161 Validation Accuracy: 0.518200\n",
      "Epoch 12, CIFAR-10 Batch 1:  Loss:     0.8813 Validation Accuracy: 0.530800\n",
      "Epoch 13, CIFAR-10 Batch 1:  Loss:     0.8236 Validation Accuracy: 0.517200\n",
      "Epoch 14, CIFAR-10 Batch 1:  Loss:     0.7150 Validation Accuracy: 0.559000\n",
      "Epoch 15, CIFAR-10 Batch 1:  Loss:     0.6467 Validation Accuracy: 0.565600\n",
      "Epoch 16, CIFAR-10 Batch 1:  Loss:     0.6322 Validation Accuracy: 0.541400\n",
      "Epoch 17, CIFAR-10 Batch 1:  Loss:     0.5451 Validation Accuracy: 0.564000\n",
      "Epoch 18, CIFAR-10 Batch 1:  Loss:     0.5482 Validation Accuracy: 0.530000\n",
      "Epoch 19, CIFAR-10 Batch 1:  Loss:     0.4740 Validation Accuracy: 0.549400\n",
      "Epoch 20, CIFAR-10 Batch 1:  Loss:     0.5137 Validation Accuracy: 0.574200\n",
      "Epoch 21, CIFAR-10 Batch 1:  Loss:     0.4092 Validation Accuracy: 0.564000\n",
      "Epoch 22, CIFAR-10 Batch 1:  Loss:     0.3877 Validation Accuracy: 0.557200\n",
      "Epoch 23, CIFAR-10 Batch 1:  Loss:     0.3611 Validation Accuracy: 0.559600\n",
      "Epoch 24, CIFAR-10 Batch 1:  Loss:     0.3087 Validation Accuracy: 0.559000\n",
      "Epoch 25, CIFAR-10 Batch 1:  Loss:     0.2636 Validation Accuracy: 0.571400\n",
      "Epoch 26, CIFAR-10 Batch 1:  Loss:     0.2631 Validation Accuracy: 0.569600\n",
      "Epoch 27, CIFAR-10 Batch 1:  Loss:     0.2931 Validation Accuracy: 0.562200\n",
      "Epoch 28, CIFAR-10 Batch 1:  Loss:     0.2380 Validation Accuracy: 0.559800\n",
      "Epoch 29, CIFAR-10 Batch 1:  Loss:     0.2365 Validation Accuracy: 0.557600\n",
      "Epoch 30, CIFAR-10 Batch 1:  Loss:     0.3039 Validation Accuracy: 0.548000\n",
      "Epoch 31, CIFAR-10 Batch 1:  Loss:     0.1512 Validation Accuracy: 0.568800\n",
      "Epoch 32, CIFAR-10 Batch 1:  Loss:     0.1309 Validation Accuracy: 0.577200\n",
      "Epoch 33, CIFAR-10 Batch 1:  Loss:     0.1041 Validation Accuracy: 0.569400\n",
      "Epoch 34, CIFAR-10 Batch 1:  Loss:     0.1687 Validation Accuracy: 0.570200\n",
      "Epoch 35, CIFAR-10 Batch 1:  Loss:     0.0973 Validation Accuracy: 0.574400\n",
      "Epoch 36, CIFAR-10 Batch 1:  Loss:     0.1059 Validation Accuracy: 0.556600\n",
      "Epoch 37, CIFAR-10 Batch 1:  Loss:     0.1201 Validation Accuracy: 0.554600\n",
      "Epoch 38, CIFAR-10 Batch 1:  Loss:     0.1369 Validation Accuracy: 0.567600\n",
      "Epoch 39, CIFAR-10 Batch 1:  Loss:     0.0945 Validation Accuracy: 0.565800\n",
      "Epoch 40, CIFAR-10 Batch 1:  Loss:     0.0708 Validation Accuracy: 0.567800\n",
      "Epoch 41, CIFAR-10 Batch 1:  Loss:     0.1160 Validation Accuracy: 0.574200\n",
      "Epoch 42, CIFAR-10 Batch 1:  Loss:     0.0986 Validation Accuracy: 0.555800\n",
      "Epoch 43, CIFAR-10 Batch 1:  Loss:     0.0790 Validation Accuracy: 0.548400\n"
     ]
    }
   ],
   "source": [
    "\"\"\"\n",
    "DON'T MODIFY ANYTHING IN THIS CELL\n",
    "\"\"\"\n",
    "print('Checking the Training on a Single Batch...')\n",
    "with tf.Session() as sess:\n",
    "    # Initializing the variables\n",
    "    sess.run(tf.global_variables_initializer())\n",
    "    \n",
    "    # Training cycle\n",
    "    for epoch in range(epochs):\n",
    "        batch_i = 1\n",
    "        for batch_features, batch_labels in helper.load_preprocess_training_batch(batch_i, batch_size):\n",
    "            train_neural_network(sess, optimizer, keep_probability, batch_features, batch_labels)\n",
    "        print('Epoch {:>2}, CIFAR-10 Batch {}:  '.format(epoch + 1, batch_i), end='')\n",
    "        print_stats(sess, batch_features, batch_labels, cost, accuracy)"
   ]
  },
  {
   "cell_type": "markdown",
   "metadata": {},
   "source": [
    "### Fully Train the Model\n",
    "Now that you got a good accuracy with a single CIFAR-10 batch, try it with all five batches."
   ]
  },
  {
   "cell_type": "code",
   "execution_count": 17,
   "metadata": {},
   "outputs": [
    {
     "name": "stdout",
     "output_type": "stream",
     "text": [
      "Training...\n",
      "Epoch  1, CIFAR-10 Batch 1:  Loss:     2.1306 Validation Accuracy: 0.220400\n",
      "Epoch  1, CIFAR-10 Batch 2:  Loss:     1.8294 Validation Accuracy: 0.308800\n",
      "Epoch  1, CIFAR-10 Batch 3:  Loss:     1.4840 Validation Accuracy: 0.339400\n",
      "Epoch  1, CIFAR-10 Batch 4:  Loss:     1.6150 Validation Accuracy: 0.398000\n",
      "Epoch  1, CIFAR-10 Batch 5:  Loss:     1.4499 Validation Accuracy: 0.451200\n",
      "Epoch  2, CIFAR-10 Batch 1:  Loss:     1.4973 Validation Accuracy: 0.456800\n",
      "Epoch  2, CIFAR-10 Batch 2:  Loss:     1.4687 Validation Accuracy: 0.488200\n",
      "Epoch  2, CIFAR-10 Batch 3:  Loss:     1.1835 Validation Accuracy: 0.493000\n",
      "Epoch  2, CIFAR-10 Batch 4:  Loss:     1.3521 Validation Accuracy: 0.519200\n",
      "Epoch  2, CIFAR-10 Batch 5:  Loss:     1.1497 Validation Accuracy: 0.517000\n",
      "Epoch  3, CIFAR-10 Batch 1:  Loss:     1.2184 Validation Accuracy: 0.556400\n",
      "Epoch  3, CIFAR-10 Batch 2:  Loss:     1.1488 Validation Accuracy: 0.532000\n",
      "Epoch  3, CIFAR-10 Batch 3:  Loss:     0.9234 Validation Accuracy: 0.540200\n",
      "Epoch  3, CIFAR-10 Batch 4:  Loss:     1.0920 Validation Accuracy: 0.553800\n",
      "Epoch  3, CIFAR-10 Batch 5:  Loss:     0.9739 Validation Accuracy: 0.586000\n",
      "Epoch  4, CIFAR-10 Batch 1:  Loss:     1.0196 Validation Accuracy: 0.584400\n",
      "Epoch  4, CIFAR-10 Batch 2:  Loss:     0.9839 Validation Accuracy: 0.597200\n",
      "Epoch  4, CIFAR-10 Batch 3:  Loss:     0.7492 Validation Accuracy: 0.596600\n",
      "Epoch  4, CIFAR-10 Batch 4:  Loss:     1.0034 Validation Accuracy: 0.604000\n",
      "Epoch  4, CIFAR-10 Batch 5:  Loss:     0.7425 Validation Accuracy: 0.614200\n",
      "Epoch  5, CIFAR-10 Batch 1:  Loss:     0.7693 Validation Accuracy: 0.623000\n",
      "Epoch  5, CIFAR-10 Batch 2:  Loss:     0.8538 Validation Accuracy: 0.622000\n",
      "Epoch  5, CIFAR-10 Batch 3:  Loss:     0.6383 Validation Accuracy: 0.623200\n",
      "Epoch  5, CIFAR-10 Batch 4:  Loss:     0.8444 Validation Accuracy: 0.616800\n",
      "Epoch  5, CIFAR-10 Batch 5:  Loss:     0.6802 Validation Accuracy: 0.629600\n",
      "Epoch  6, CIFAR-10 Batch 1:  Loss:     0.7366 Validation Accuracy: 0.649800\n",
      "Epoch  6, CIFAR-10 Batch 2:  Loss:     0.7876 Validation Accuracy: 0.636000\n",
      "Epoch  6, CIFAR-10 Batch 3:  Loss:     0.5120 Validation Accuracy: 0.661800\n",
      "Epoch  6, CIFAR-10 Batch 4:  Loss:     0.6520 Validation Accuracy: 0.660400\n",
      "Epoch  6, CIFAR-10 Batch 5:  Loss:     0.5717 Validation Accuracy: 0.655400\n",
      "Epoch  7, CIFAR-10 Batch 1:  Loss:     0.6379 Validation Accuracy: 0.673600\n",
      "Epoch  7, CIFAR-10 Batch 2:  Loss:     0.6281 Validation Accuracy: 0.663800\n",
      "Epoch  7, CIFAR-10 Batch 3:  Loss:     0.4388 Validation Accuracy: 0.669600\n",
      "Epoch  7, CIFAR-10 Batch 4:  Loss:     0.6134 Validation Accuracy: 0.679600\n",
      "Epoch  7, CIFAR-10 Batch 5:  Loss:     0.5247 Validation Accuracy: 0.654600\n",
      "Epoch  8, CIFAR-10 Batch 1:  Loss:     0.5433 Validation Accuracy: 0.677800\n",
      "Epoch  8, CIFAR-10 Batch 2:  Loss:     0.6607 Validation Accuracy: 0.674800\n",
      "Epoch  8, CIFAR-10 Batch 3:  Loss:     0.3377 Validation Accuracy: 0.679800\n",
      "Epoch  8, CIFAR-10 Batch 4:  Loss:     0.5561 Validation Accuracy: 0.680600\n",
      "Epoch  8, CIFAR-10 Batch 5:  Loss:     0.4239 Validation Accuracy: 0.672400\n",
      "Epoch  9, CIFAR-10 Batch 1:  Loss:     0.4503 Validation Accuracy: 0.670200\n",
      "Epoch  9, CIFAR-10 Batch 2:  Loss:     0.5299 Validation Accuracy: 0.666000\n",
      "Epoch  9, CIFAR-10 Batch 3:  Loss:     0.3233 Validation Accuracy: 0.700200\n",
      "Epoch  9, CIFAR-10 Batch 4:  Loss:     0.4974 Validation Accuracy: 0.670800\n",
      "Epoch  9, CIFAR-10 Batch 5:  Loss:     0.4080 Validation Accuracy: 0.696600\n",
      "Epoch 10, CIFAR-10 Batch 1:  Loss:     0.4388 Validation Accuracy: 0.688600\n",
      "Epoch 10, CIFAR-10 Batch 2:  Loss:     0.4807 Validation Accuracy: 0.680200\n",
      "Epoch 10, CIFAR-10 Batch 3:  Loss:     0.3088 Validation Accuracy: 0.689800\n",
      "Epoch 10, CIFAR-10 Batch 4:  Loss:     0.5024 Validation Accuracy: 0.678200\n",
      "Epoch 10, CIFAR-10 Batch 5:  Loss:     0.3549 Validation Accuracy: 0.696200\n",
      "Epoch 11, CIFAR-10 Batch 1:  Loss:     0.3516 Validation Accuracy: 0.710000\n",
      "Epoch 11, CIFAR-10 Batch 2:  Loss:     0.4080 Validation Accuracy: 0.682800\n",
      "Epoch 11, CIFAR-10 Batch 3:  Loss:     0.2660 Validation Accuracy: 0.700600\n",
      "Epoch 11, CIFAR-10 Batch 4:  Loss:     0.3449 Validation Accuracy: 0.697200\n",
      "Epoch 11, CIFAR-10 Batch 5:  Loss:     0.2958 Validation Accuracy: 0.695400\n",
      "Epoch 12, CIFAR-10 Batch 1:  Loss:     0.3252 Validation Accuracy: 0.710000\n",
      "Epoch 12, CIFAR-10 Batch 2:  Loss:     0.3380 Validation Accuracy: 0.693200\n",
      "Epoch 12, CIFAR-10 Batch 3:  Loss:     0.2156 Validation Accuracy: 0.702000\n",
      "Epoch 12, CIFAR-10 Batch 4:  Loss:     0.3495 Validation Accuracy: 0.690800\n",
      "Epoch 12, CIFAR-10 Batch 5:  Loss:     0.2629 Validation Accuracy: 0.690000\n",
      "Epoch 13, CIFAR-10 Batch 1:  Loss:     0.2892 Validation Accuracy: 0.704800\n",
      "Epoch 13, CIFAR-10 Batch 2:  Loss:     0.3291 Validation Accuracy: 0.690000\n",
      "Epoch 13, CIFAR-10 Batch 3:  Loss:     0.2449 Validation Accuracy: 0.701000\n",
      "Epoch 13, CIFAR-10 Batch 4:  Loss:     0.2645 Validation Accuracy: 0.701400\n",
      "Epoch 13, CIFAR-10 Batch 5:  Loss:     0.1941 Validation Accuracy: 0.689000\n",
      "Epoch 14, CIFAR-10 Batch 1:  Loss:     0.2964 Validation Accuracy: 0.695200\n",
      "Epoch 14, CIFAR-10 Batch 2:  Loss:     0.2896 Validation Accuracy: 0.690400\n",
      "Epoch 14, CIFAR-10 Batch 3:  Loss:     0.1751 Validation Accuracy: 0.710800\n",
      "Epoch 14, CIFAR-10 Batch 4:  Loss:     0.2396 Validation Accuracy: 0.695800\n",
      "Epoch 14, CIFAR-10 Batch 5:  Loss:     0.2187 Validation Accuracy: 0.693400\n",
      "Epoch 15, CIFAR-10 Batch 1:  Loss:     0.3207 Validation Accuracy: 0.692200\n",
      "Epoch 15, CIFAR-10 Batch 2:  Loss:     0.2181 Validation Accuracy: 0.698600\n",
      "Epoch 15, CIFAR-10 Batch 3:  Loss:     0.1759 Validation Accuracy: 0.708600\n",
      "Epoch 15, CIFAR-10 Batch 4:  Loss:     0.2342 Validation Accuracy: 0.708600\n",
      "Epoch 15, CIFAR-10 Batch 5:  Loss:     0.1952 Validation Accuracy: 0.712600\n",
      "Epoch 16, CIFAR-10 Batch 1:  Loss:     0.2583 Validation Accuracy: 0.699400\n",
      "Epoch 16, CIFAR-10 Batch 2:  Loss:     0.2498 Validation Accuracy: 0.711000\n",
      "Epoch 16, CIFAR-10 Batch 3:  Loss:     0.2094 Validation Accuracy: 0.703200\n",
      "Epoch 16, CIFAR-10 Batch 4:  Loss:     0.1850 Validation Accuracy: 0.711400\n",
      "Epoch 16, CIFAR-10 Batch 5:  Loss:     0.1387 Validation Accuracy: 0.712400\n",
      "Epoch 17, CIFAR-10 Batch 1:  Loss:     0.2720 Validation Accuracy: 0.708800\n",
      "Epoch 17, CIFAR-10 Batch 2:  Loss:     0.2137 Validation Accuracy: 0.697000\n",
      "Epoch 17, CIFAR-10 Batch 3:  Loss:     0.1385 Validation Accuracy: 0.712600\n",
      "Epoch 17, CIFAR-10 Batch 4:  Loss:     0.1750 Validation Accuracy: 0.713400\n",
      "Epoch 17, CIFAR-10 Batch 5:  Loss:     0.1178 Validation Accuracy: 0.706200\n",
      "Epoch 18, CIFAR-10 Batch 1:  Loss:     0.1710 Validation Accuracy: 0.716600\n",
      "Epoch 18, CIFAR-10 Batch 2:  Loss:     0.2165 Validation Accuracy: 0.698400\n",
      "Epoch 18, CIFAR-10 Batch 3:  Loss:     0.1599 Validation Accuracy: 0.700800\n",
      "Epoch 18, CIFAR-10 Batch 4:  Loss:     0.1883 Validation Accuracy: 0.706600\n",
      "Epoch 18, CIFAR-10 Batch 5:  Loss:     0.1244 Validation Accuracy: 0.708000\n",
      "Epoch 19, CIFAR-10 Batch 1:  Loss:     0.2096 Validation Accuracy: 0.699200\n",
      "Epoch 19, CIFAR-10 Batch 2:  Loss:     0.2872 Validation Accuracy: 0.703200\n",
      "Epoch 19, CIFAR-10 Batch 3:  Loss:     0.1088 Validation Accuracy: 0.726400\n",
      "Epoch 19, CIFAR-10 Batch 4:  Loss:     0.2136 Validation Accuracy: 0.681000\n",
      "Epoch 19, CIFAR-10 Batch 5:  Loss:     0.0997 Validation Accuracy: 0.709800\n",
      "Epoch 20, CIFAR-10 Batch 1:  Loss:     0.1998 Validation Accuracy: 0.717800\n",
      "Epoch 20, CIFAR-10 Batch 2:  Loss:     0.2342 Validation Accuracy: 0.706600\n",
      "Epoch 20, CIFAR-10 Batch 3:  Loss:     0.1446 Validation Accuracy: 0.694600\n",
      "Epoch 20, CIFAR-10 Batch 4:  Loss:     0.1699 Validation Accuracy: 0.705600\n",
      "Epoch 20, CIFAR-10 Batch 5:  Loss:     0.1105 Validation Accuracy: 0.703800\n",
      "Epoch 21, CIFAR-10 Batch 1:  Loss:     0.1490 Validation Accuracy: 0.722800\n",
      "Epoch 21, CIFAR-10 Batch 2:  Loss:     0.1563 Validation Accuracy: 0.700200\n",
      "Epoch 21, CIFAR-10 Batch 3:  Loss:     0.1312 Validation Accuracy: 0.703600\n",
      "Epoch 21, CIFAR-10 Batch 4:  Loss:     0.1939 Validation Accuracy: 0.696200\n",
      "Epoch 21, CIFAR-10 Batch 5:  Loss:     0.1344 Validation Accuracy: 0.715400\n",
      "Epoch 22, CIFAR-10 Batch 1:  Loss:     0.1296 Validation Accuracy: 0.721200\n",
      "Epoch 22, CIFAR-10 Batch 2:  Loss:     0.1440 Validation Accuracy: 0.701200\n",
      "Epoch 22, CIFAR-10 Batch 3:  Loss:     0.1137 Validation Accuracy: 0.686800\n"
     ]
    },
    {
     "name": "stdout",
     "output_type": "stream",
     "text": [
      "Epoch 22, CIFAR-10 Batch 4:  Loss:     0.1346 Validation Accuracy: 0.710400\n",
      "Epoch 22, CIFAR-10 Batch 5:  Loss:     0.1319 Validation Accuracy: 0.699400\n",
      "Epoch 23, CIFAR-10 Batch 1:  Loss:     0.1341 Validation Accuracy: 0.710400\n",
      "Epoch 23, CIFAR-10 Batch 2:  Loss:     0.1669 Validation Accuracy: 0.698600\n",
      "Epoch 23, CIFAR-10 Batch 3:  Loss:     0.1203 Validation Accuracy: 0.710600\n",
      "Epoch 23, CIFAR-10 Batch 4:  Loss:     0.1633 Validation Accuracy: 0.722600\n",
      "Epoch 23, CIFAR-10 Batch 5:  Loss:     0.0753 Validation Accuracy: 0.707800\n",
      "Epoch 24, CIFAR-10 Batch 1:  Loss:     0.1234 Validation Accuracy: 0.708200\n",
      "Epoch 24, CIFAR-10 Batch 2:  Loss:     0.1380 Validation Accuracy: 0.708400\n",
      "Epoch 24, CIFAR-10 Batch 3:  Loss:     0.0738 Validation Accuracy: 0.710000\n",
      "Epoch 24, CIFAR-10 Batch 4:  Loss:     0.1243 Validation Accuracy: 0.701600\n",
      "Epoch 24, CIFAR-10 Batch 5:  Loss:     0.0746 Validation Accuracy: 0.696400\n",
      "Epoch 25, CIFAR-10 Batch 1:  Loss:     0.1398 Validation Accuracy: 0.711000\n",
      "Epoch 25, CIFAR-10 Batch 2:  Loss:     0.1028 Validation Accuracy: 0.708000\n",
      "Epoch 25, CIFAR-10 Batch 3:  Loss:     0.1438 Validation Accuracy: 0.716800\n",
      "Epoch 25, CIFAR-10 Batch 4:  Loss:     0.2277 Validation Accuracy: 0.700800\n",
      "Epoch 25, CIFAR-10 Batch 5:  Loss:     0.1089 Validation Accuracy: 0.710200\n",
      "Epoch 26, CIFAR-10 Batch 1:  Loss:     0.1424 Validation Accuracy: 0.706200\n",
      "Epoch 26, CIFAR-10 Batch 2:  Loss:     0.1447 Validation Accuracy: 0.698200\n",
      "Epoch 26, CIFAR-10 Batch 3:  Loss:     0.0884 Validation Accuracy: 0.710800\n",
      "Epoch 26, CIFAR-10 Batch 4:  Loss:     0.1011 Validation Accuracy: 0.706000\n",
      "Epoch 26, CIFAR-10 Batch 5:  Loss:     0.0593 Validation Accuracy: 0.720400\n",
      "Epoch 27, CIFAR-10 Batch 1:  Loss:     0.1139 Validation Accuracy: 0.710200\n",
      "Epoch 27, CIFAR-10 Batch 2:  Loss:     0.0776 Validation Accuracy: 0.707400\n",
      "Epoch 27, CIFAR-10 Batch 3:  Loss:     0.0436 Validation Accuracy: 0.712600\n",
      "Epoch 27, CIFAR-10 Batch 4:  Loss:     0.1039 Validation Accuracy: 0.714400\n",
      "Epoch 27, CIFAR-10 Batch 5:  Loss:     0.0593 Validation Accuracy: 0.715400\n",
      "Epoch 28, CIFAR-10 Batch 1:  Loss:     0.1206 Validation Accuracy: 0.704600\n",
      "Epoch 28, CIFAR-10 Batch 2:  Loss:     0.0908 Validation Accuracy: 0.708400\n",
      "Epoch 28, CIFAR-10 Batch 3:  Loss:     0.0380 Validation Accuracy: 0.715600\n",
      "Epoch 28, CIFAR-10 Batch 4:  Loss:     0.1061 Validation Accuracy: 0.711200\n",
      "Epoch 28, CIFAR-10 Batch 5:  Loss:     0.0469 Validation Accuracy: 0.718000\n",
      "Epoch 29, CIFAR-10 Batch 1:  Loss:     0.1138 Validation Accuracy: 0.707800\n",
      "Epoch 29, CIFAR-10 Batch 2:  Loss:     0.0874 Validation Accuracy: 0.704200\n",
      "Epoch 29, CIFAR-10 Batch 3:  Loss:     0.0481 Validation Accuracy: 0.704600\n",
      "Epoch 29, CIFAR-10 Batch 4:  Loss:     0.0989 Validation Accuracy: 0.703600\n",
      "Epoch 29, CIFAR-10 Batch 5:  Loss:     0.0451 Validation Accuracy: 0.719200\n",
      "Epoch 30, CIFAR-10 Batch 1:  Loss:     0.1592 Validation Accuracy: 0.702000\n",
      "Epoch 30, CIFAR-10 Batch 2:  Loss:     0.0783 Validation Accuracy: 0.700600\n",
      "Epoch 30, CIFAR-10 Batch 3:  Loss:     0.0467 Validation Accuracy: 0.711200\n",
      "Epoch 30, CIFAR-10 Batch 4:  Loss:     0.1068 Validation Accuracy: 0.704600\n",
      "Epoch 30, CIFAR-10 Batch 5:  Loss:     0.0434 Validation Accuracy: 0.706600\n",
      "Epoch 31, CIFAR-10 Batch 1:  Loss:     0.0534 Validation Accuracy: 0.700400\n",
      "Epoch 31, CIFAR-10 Batch 2:  Loss:     0.1150 Validation Accuracy: 0.703200\n",
      "Epoch 31, CIFAR-10 Batch 3:  Loss:     0.0864 Validation Accuracy: 0.700000\n",
      "Epoch 31, CIFAR-10 Batch 4:  Loss:     0.0404 Validation Accuracy: 0.712400\n",
      "Epoch 31, CIFAR-10 Batch 5:  Loss:     0.0436 Validation Accuracy: 0.704400\n",
      "Epoch 32, CIFAR-10 Batch 1:  Loss:     0.1071 Validation Accuracy: 0.702600\n",
      "Epoch 32, CIFAR-10 Batch 2:  Loss:     0.0893 Validation Accuracy: 0.703600\n",
      "Epoch 32, CIFAR-10 Batch 3:  Loss:     0.0475 Validation Accuracy: 0.698000\n",
      "Epoch 32, CIFAR-10 Batch 4:  Loss:     0.0495 Validation Accuracy: 0.713400\n",
      "Epoch 32, CIFAR-10 Batch 5:  Loss:     0.0222 Validation Accuracy: 0.708800\n",
      "Epoch 33, CIFAR-10 Batch 1:  Loss:     0.0932 Validation Accuracy: 0.690600\n",
      "Epoch 33, CIFAR-10 Batch 2:  Loss:     0.0687 Validation Accuracy: 0.701600\n",
      "Epoch 33, CIFAR-10 Batch 3:  Loss:     0.0434 Validation Accuracy: 0.705800\n",
      "Epoch 33, CIFAR-10 Batch 4:  Loss:     0.0659 Validation Accuracy: 0.716000\n",
      "Epoch 33, CIFAR-10 Batch 5:  Loss:     0.0221 Validation Accuracy: 0.716000\n",
      "Epoch 34, CIFAR-10 Batch 1:  Loss:     0.1094 Validation Accuracy: 0.694200\n",
      "Epoch 34, CIFAR-10 Batch 2:  Loss:     0.0920 Validation Accuracy: 0.712600\n",
      "Epoch 34, CIFAR-10 Batch 3:  Loss:     0.0369 Validation Accuracy: 0.701600\n",
      "Epoch 34, CIFAR-10 Batch 4:  Loss:     0.0407 Validation Accuracy: 0.712600\n",
      "Epoch 34, CIFAR-10 Batch 5:  Loss:     0.0349 Validation Accuracy: 0.710400\n",
      "Epoch 35, CIFAR-10 Batch 1:  Loss:     0.0595 Validation Accuracy: 0.695600\n",
      "Epoch 35, CIFAR-10 Batch 2:  Loss:     0.0719 Validation Accuracy: 0.700400\n",
      "Epoch 35, CIFAR-10 Batch 3:  Loss:     0.0579 Validation Accuracy: 0.698800\n",
      "Epoch 35, CIFAR-10 Batch 4:  Loss:     0.0440 Validation Accuracy: 0.704600\n",
      "Epoch 35, CIFAR-10 Batch 5:  Loss:     0.0191 Validation Accuracy: 0.724000\n",
      "Epoch 36, CIFAR-10 Batch 1:  Loss:     0.0903 Validation Accuracy: 0.709600\n",
      "Epoch 36, CIFAR-10 Batch 2:  Loss:     0.0605 Validation Accuracy: 0.695600\n",
      "Epoch 36, CIFAR-10 Batch 3:  Loss:     0.0440 Validation Accuracy: 0.691000\n",
      "Epoch 36, CIFAR-10 Batch 4:  Loss:     0.0269 Validation Accuracy: 0.713000\n",
      "Epoch 36, CIFAR-10 Batch 5:  Loss:     0.0316 Validation Accuracy: 0.720000\n",
      "Epoch 37, CIFAR-10 Batch 1:  Loss:     0.0639 Validation Accuracy: 0.715000\n",
      "Epoch 37, CIFAR-10 Batch 2:  Loss:     0.0326 Validation Accuracy: 0.716600\n",
      "Epoch 37, CIFAR-10 Batch 3:  Loss:     0.0253 Validation Accuracy: 0.683400\n",
      "Epoch 37, CIFAR-10 Batch 4:  Loss:     0.0337 Validation Accuracy: 0.710200\n",
      "Epoch 37, CIFAR-10 Batch 5:  Loss:     0.0313 Validation Accuracy: 0.718400\n",
      "Epoch 38, CIFAR-10 Batch 1:  Loss:     0.0913 Validation Accuracy: 0.704600\n",
      "Epoch 38, CIFAR-10 Batch 2:  Loss:     0.0194 Validation Accuracy: 0.703400\n",
      "Epoch 38, CIFAR-10 Batch 3:  Loss:     0.0118 Validation Accuracy: 0.699400\n",
      "Epoch 38, CIFAR-10 Batch 4:  Loss:     0.0154 Validation Accuracy: 0.715800\n",
      "Epoch 38, CIFAR-10 Batch 5:  Loss:     0.0098 Validation Accuracy: 0.725000\n",
      "Epoch 39, CIFAR-10 Batch 1:  Loss:     0.0548 Validation Accuracy: 0.700000\n",
      "Epoch 39, CIFAR-10 Batch 2:  Loss:     0.0346 Validation Accuracy: 0.680200\n",
      "Epoch 39, CIFAR-10 Batch 3:  Loss:     0.0184 Validation Accuracy: 0.684200\n",
      "Epoch 39, CIFAR-10 Batch 4:  Loss:     0.0103 Validation Accuracy: 0.716400\n",
      "Epoch 39, CIFAR-10 Batch 5:  Loss:     0.0083 Validation Accuracy: 0.726400\n",
      "Epoch 40, CIFAR-10 Batch 1:  Loss:     0.0522 Validation Accuracy: 0.696400\n",
      "Epoch 40, CIFAR-10 Batch 2:  Loss:     0.0169 Validation Accuracy: 0.717000\n",
      "Epoch 40, CIFAR-10 Batch 3:  Loss:     0.0439 Validation Accuracy: 0.693600\n",
      "Epoch 40, CIFAR-10 Batch 4:  Loss:     0.0145 Validation Accuracy: 0.717400\n",
      "Epoch 40, CIFAR-10 Batch 5:  Loss:     0.0447 Validation Accuracy: 0.711200\n",
      "Epoch 41, CIFAR-10 Batch 1:  Loss:     0.0396 Validation Accuracy: 0.705000\n",
      "Epoch 41, CIFAR-10 Batch 2:  Loss:     0.0150 Validation Accuracy: 0.697800\n",
      "Epoch 41, CIFAR-10 Batch 3:  Loss:     0.0090 Validation Accuracy: 0.693200\n",
      "Epoch 41, CIFAR-10 Batch 4:  Loss:     0.0430 Validation Accuracy: 0.708600\n",
      "Epoch 41, CIFAR-10 Batch 5:  Loss:     0.0151 Validation Accuracy: 0.719200\n",
      "Epoch 42, CIFAR-10 Batch 1:  Loss:     0.0754 Validation Accuracy: 0.702600\n",
      "Epoch 42, CIFAR-10 Batch 2:  Loss:     0.0215 Validation Accuracy: 0.702200\n",
      "Epoch 42, CIFAR-10 Batch 3:  Loss:     0.0133 Validation Accuracy: 0.696000\n",
      "Epoch 42, CIFAR-10 Batch 4:  Loss:     0.0379 Validation Accuracy: 0.716000\n",
      "Epoch 42, CIFAR-10 Batch 5:  Loss:     0.0165 Validation Accuracy: 0.715600\n",
      "Epoch 43, CIFAR-10 Batch 1:  Loss:     0.0604 Validation Accuracy: 0.702200\n",
      "Epoch 43, CIFAR-10 Batch 2:  Loss:     0.0180 Validation Accuracy: 0.709800\n",
      "Epoch 43, CIFAR-10 Batch 3:  Loss:     0.0247 Validation Accuracy: 0.702600\n",
      "Epoch 43, CIFAR-10 Batch 4:  Loss:     0.0132 Validation Accuracy: 0.710000\n",
      "Epoch 43, CIFAR-10 Batch 5:  Loss:     0.0108 Validation Accuracy: 0.708800\n"
     ]
    }
   ],
   "source": [
    "\"\"\"\n",
    "DON'T MODIFY ANYTHING IN THIS CELL\n",
    "\"\"\"\n",
    "save_model_path = './image_classification'\n",
    "\n",
    "print('Training...')\n",
    "with tf.Session() as sess:\n",
    "    # Initializing the variables\n",
    "    sess.run(tf.global_variables_initializer())\n",
    "    \n",
    "    # Training cycle\n",
    "    for epoch in range(epochs):\n",
    "        # Loop over all batches\n",
    "        n_batches = 5\n",
    "        for batch_i in range(1, n_batches + 1):\n",
    "            for batch_features, batch_labels in helper.load_preprocess_training_batch(batch_i, batch_size):\n",
    "                train_neural_network(sess, optimizer, keep_probability, batch_features, batch_labels)\n",
    "            print('Epoch {:>2}, CIFAR-10 Batch {}:  '.format(epoch + 1, batch_i), end='')\n",
    "            print_stats(sess, batch_features, batch_labels, cost, accuracy)\n",
    "            \n",
    "    # Save Model\n",
    "    saver = tf.train.Saver()\n",
    "    save_path = saver.save(sess, save_model_path)"
   ]
  },
  {
   "cell_type": "markdown",
   "metadata": {},
   "source": [
    "# Checkpoint\n",
    "The model has been saved to disk.\n",
    "## Test Model\n",
    "Test your model against the test dataset.  This will be your final accuracy. You should have an accuracy greater than 50%. If you don't, keep tweaking the model architecture and parameters."
   ]
  },
  {
   "cell_type": "code",
   "execution_count": 18,
   "metadata": {},
   "outputs": [
    {
     "name": "stdout",
     "output_type": "stream",
     "text": [
      "INFO:tensorflow:Restoring parameters from ./image_classification\n",
      "Testing Accuracy: 0.7056962025316456\n",
      "\n"
     ]
    },
    {
     "data": {
      "image/png": "[encoded data removed]",
      "text/plain": [
       "<matplotlib.figure.Figure at 0x118e08d30>"
      ]
     },
     "metadata": {
      "image/png": {
       "height": 319,
       "width": 355
      }
     },
     "output_type": "display_data"
    }
   ],
   "source": [
    "\"\"\"\n",
    "DON'T MODIFY ANYTHING IN THIS CELL\n",
    "\"\"\"\n",
    "%matplotlib inline\n",
    "%config InlineBackend.figure_format = 'retina'\n",
    "\n",
    "import tensorflow as tf\n",
    "import pickle\n",
    "import helper\n",
    "import random\n",
    "\n",
    "# Set batch size if not already set\n",
    "try:\n",
    "    if batch_size:\n",
    "        pass\n",
    "except NameError:\n",
    "    batch_size = 64\n",
    "\n",
    "save_model_path = './image_classification'\n",
    "n_samples = 4\n",
    "top_n_predictions = 3\n",
    "\n",
    "def test_model():\n",
    "    \"\"\"\n",
    "    Test the saved model against the test dataset\n",
    "    \"\"\"\n",
    "\n",
    "    test_features, test_labels = pickle.load(open('preprocess_test.p', mode='rb'))\n",
    "    loaded_graph = tf.Graph()\n",
    "\n",
    "    with tf.Session(graph=loaded_graph) as sess:\n",
    "        # Load model\n",
    "        loader = tf.train.import_meta_graph(save_model_path + '.meta')\n",
    "        loader.restore(sess, save_model_path)\n",
    "\n",
    "        # Get Tensors from loaded model\n",
    "        loaded_x = loaded_graph.get_tensor_by_name('x:0')\n",
    "        loaded_y = loaded_graph.get_tensor_by_name('y:0')\n",
    "        loaded_keep_prob = loaded_graph.get_tensor_by_name('keep_prob:0')\n",
    "        loaded_logits = loaded_graph.get_tensor_by_name('logits:0')\n",
    "        loaded_acc = loaded_graph.get_tensor_by_name('accuracy:0')\n",
    "        \n",
    "        # Get accuracy in batches for memory limitations\n",
    "        test_batch_acc_total = 0\n",
    "        test_batch_count = 0\n",
    "        \n",
    "        for test_feature_batch, test_label_batch in helper.batch_features_labels(test_features, test_labels, batch_size):\n",
    "            test_batch_acc_total += sess.run(\n",
    "                loaded_acc,\n",
    "                feed_dict={loaded_x: test_feature_batch, loaded_y: test_label_batch, loaded_keep_prob: 1.0})\n",
    "            test_batch_count += 1\n",
    "\n",
    "        print('Testing Accuracy: {}\\n'.format(test_batch_acc_total/test_batch_count))\n",
    "\n",
    "        # Print Random Samples\n",
    "        random_test_features, random_test_labels = tuple(zip(*random.sample(list(zip(test_features, test_labels)), n_samples)))\n",
    "        random_test_predictions = sess.run(\n",
    "            tf.nn.top_k(tf.nn.softmax(loaded_logits), top_n_predictions),\n",
    "            feed_dict={loaded_x: random_test_features, loaded_y: random_test_labels, loaded_keep_prob: 1.0})\n",
    "        helper.display_image_predictions(random_test_features, random_test_labels, random_test_predictions)\n",
    "\n",
    "\n",
    "test_model()"
   ]
  },
  {
   "cell_type": "markdown",
   "metadata": {},
   "source": [
    "## Why 50-80% Accuracy?\n",
    "You might be wondering why you can't get an accuracy any higher. First things first, 50% isn't bad for a simple CNN.  Pure guessing would get you 10% accuracy. However, you might notice people are getting scores [well above 80%](http://rodrigob.github.io/are_we_there_yet/build/classification_datasets_results.html#43494641522d3130).  That's because we haven't taught you all there is to know about neural networks. We still need to cover a few more techniques.\n",
    "## Submitting This Project\n",
    "When submitting this project, make sure to run all the cells before saving the notebook.  Save the notebook file as \"dlnd_image_classification.ipynb\" and save it as a HTML file under \"File\" -> \"Download as\".  Include the \"helper.py\" and \"problem_unittests.py\" files in your submission."
   ]
  }
 ],
 "metadata": {
  "kernelspec": {
   "display_name": "Python 3",
   "language": "python",
   "name": "python3"
  },
  "language_info": {
   "codemirror_mode": {
    "name": "ipython",
    "version": 3
   },
   "file_extension": ".py",
   "mimetype": "text/x-python",
   "name": "python",
   "nbconvert_exporter": "python",
   "pygments_lexer": "ipython3",
   "version": "3.6.1"
  }
 },
 "nbformat": 4,
 "nbformat_minor": 1
}
